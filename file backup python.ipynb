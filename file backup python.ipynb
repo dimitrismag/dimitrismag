{
 "cells": [
  {
   "cell_type": "code",
   "execution_count": 11,
   "id": "536b9e06",
   "metadata": {},
   "outputs": [],
   "source": [
    "from datetime import date\n",
    "from shutil import copyfile"
   ]
  },
  {
   "cell_type": "code",
   "execution_count": 12,
   "id": "36405de3",
   "metadata": {},
   "outputs": [],
   "source": [
    "date_backup = date.today()"
   ]
  },
  {
   "cell_type": "code",
   "execution_count": 13,
   "id": "a604e2bc",
   "metadata": {},
   "outputs": [],
   "source": [
    "str_date_backup = str(date_backup).replace('-', '.')"
   ]
  },
  {
   "cell_type": "code",
   "execution_count": 14,
   "id": "49206ff0",
   "metadata": {},
   "outputs": [
    {
     "name": "stdout",
     "output_type": "stream",
     "text": [
      "2024.04.27\n"
     ]
    }
   ],
   "source": [
    "print(str_date_backup)"
   ]
  },
  {
   "cell_type": "code",
   "execution_count": 15,
   "id": "d9ea9184",
   "metadata": {},
   "outputs": [],
   "source": [
    "path_input = r'C:\\Users\\PC\\Desktop\\big data.pdf'"
   ]
  },
  {
   "cell_type": "code",
   "execution_count": 16,
   "id": "b8c9b65d",
   "metadata": {},
   "outputs": [
    {
     "name": "stdout",
     "output_type": "stream",
     "text": [
      "C:\\Users\\PC\\Desktop\\2024.04.27 Master backup\n"
     ]
    }
   ],
   "source": [
    "path_output = r'C:\\Users\\PC\\Desktop\\backup files' + '\\\\' + str_date_backup + ' Master backup'\n",
    "print(path_output)"
   ]
  },
  {
   "cell_type": "code",
   "execution_count": 17,
   "id": "24d1b839",
   "metadata": {},
   "outputs": [
    {
     "data": {
      "text/plain": [
       "'C:\\\\Users\\\\PC\\\\Desktop\\\\2024.04.27 Master backup'"
      ]
     },
     "execution_count": 17,
     "metadata": {},
     "output_type": "execute_result"
    }
   ],
   "source": [
    "copyfile(path_input,path_output)"
   ]
  },
  {
   "cell_type": "code",
   "execution_count": null,
   "id": "7943cf34",
   "metadata": {},
   "outputs": [],
   "source": []
  }
 ],
 "metadata": {
  "kernelspec": {
   "display_name": "Python 3 (ipykernel)",
   "language": "python",
   "name": "python3"
  },
  "language_info": {
   "codemirror_mode": {
    "name": "ipython",
    "version": 3
   },
   "file_extension": ".py",
   "mimetype": "text/x-python",
   "name": "python",
   "nbconvert_exporter": "python",
   "pygments_lexer": "ipython3",
   "version": "3.10.9"
  }
 },
 "nbformat": 4,
 "nbformat_minor": 5
}
